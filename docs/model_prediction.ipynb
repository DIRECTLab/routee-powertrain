{
 "cells": [
  {
   "cell_type": "markdown",
   "metadata": {},
   "source": [
    "# Model Prediction\n",
    "\n",
    "RouteE models can be loaded from a large library of pre-trained models"
   ]
  },
  {
   "cell_type": "code",
   "execution_count": 1,
   "metadata": {},
   "outputs": [],
   "source": [
    "import nrel.routee.powertrain as pt"
   ]
  },
  {
   "cell_type": "code",
   "execution_count": 5,
   "metadata": {},
   "outputs": [
    {
     "data": {
      "text/plain": [
       "['2016_TOYOTA_Camry_4cyl_2WD', '2016_TESLA_Model_S60_2WD']"
      ]
     },
     "execution_count": 5,
     "metadata": {},
     "output_type": "execute_result"
    }
   ],
   "source": [
    "pt.list_available_models()"
   ]
  },
  {
   "cell_type": "code",
   "execution_count": 6,
   "metadata": {},
   "outputs": [],
   "source": [
    "camry = pt.load_pretrained_model(\"2016_TOYOTA_Camry_4cyl_2WD\")"
   ]
  },
  {
   "cell_type": "code",
   "execution_count": 7,
   "metadata": {},
   "outputs": [
    {
     "data": {
      "text/html": [
       "<table border=\"1\" style=\"border-collapse: collapse;\"><tr><th colspan=\"2\" style=\"border-bottom: 2px solid black; text-align: center;\">Model Summary</th></tr><tr><td>Vehicle description</td><td>2016 Toyota Camry 4cyl 2WD</td></tr><tr><td>Powertrain type</td><td>ICE</td></tr><tr><td>Number of estimators</td><td>2</td></tr><tr><th colspan=\"2\" style=\"border-bottom: 2px solid black; text-align: center;\">Estimator Summary</th></tr><tr><td>Feature</td><td>speed (mph)</td></tr><tr><td>Feature</td><td>grade (decimal_-1_to_1)</td></tr><tr><td>Distance</td><td>distance (miles)</td></tr><tr><td>Target</td><td>energy (gallons_gasoline)</td></tr><tr><td>Predicted Consumption</td><td>31.581 (miles/gallons_gasoline)</td></tr><tr><th colspan=\"2\" style=\"border-bottom: 2px solid black; text-align: center;\">Estimator Summary</th></tr><tr><td>Feature</td><td>speed (mph)</td></tr><tr><td>Feature</td><td>grade (decimal_-1_to_1)</td></tr><tr><td>Feature</td><td>entry_angle (degrees)</td></tr><tr><td>Feature</td><td>exit_angle (degrees)</td></tr><tr><td>Distance</td><td>distance (miles)</td></tr><tr><td>Target</td><td>energy (gallons_gasoline)</td></tr><tr><td>Predicted Consumption</td><td>31.455 (miles/gallons_gasoline)</td></tr></table>"
      ],
      "text/plain": [
       "========================================\n",
       "Model Summary\n",
       "--------------------\n",
       "Vehicle description: 2016 Toyota Camry 4cyl 2WD\n",
       "Powertrain type: ICE\n",
       "Number of estimators: 2\n",
       "========================================\n",
       "Estimator Summary\n",
       "--------------------\n",
       "Feature: speed (mph)\n",
       "Feature: grade (decimal_-1_to_1)\n",
       "Distance: distance (miles)\n",
       "Target: energy (gallons_gasoline)\n",
       "Predicted Consumption: 31.581 (miles/gallons_gasoline)\n",
       "========================================\n",
       "Estimator Summary\n",
       "--------------------\n",
       "Feature: speed (mph)\n",
       "Feature: grade (decimal_-1_to_1)\n",
       "Feature: entry_angle (degrees)\n",
       "Feature: exit_angle (degrees)\n",
       "Distance: distance (miles)\n",
       "Target: energy (gallons_gasoline)\n",
       "Predicted Consumption: 31.455 (miles/gallons_gasoline)\n",
       "========================================"
      ]
     },
     "execution_count": 7,
     "metadata": {},
     "output_type": "execute_result"
    }
   ],
   "source": [
    "camry"
   ]
  },
  {
   "cell_type": "code",
   "execution_count": 8,
   "metadata": {},
   "outputs": [],
   "source": [
    "import pandas as pd\n",
    "links = pd.DataFrame({\n",
    "    \"speed\": [10, 20, 30, 40, 50],\n",
    "    \"grade\": [0.0, 0.0, -0.05, 0.05, 0.0],\n",
    "    \"distance\": [1, 1, 1, 1, 1],\n",
    "    \"entry_angle\": [0, 90, 0, 180, 0],\n",
    "    \"exit_angle\": [90, 0, 180, 0, -90]\n",
    "})"
   ]
  },
  {
   "cell_type": "markdown",
   "metadata": {},
   "source": [
    "The pretrained Camry model has multiple estimators available for you to use depending on what features you might have available. You can see a summary of all the estimators in the model summary shown above but you can also just list which feature sets are available:"
   ]
  },
  {
   "cell_type": "code",
   "execution_count": 10,
   "metadata": {},
   "outputs": [
    {
     "data": {
      "text/plain": [
       "dict_keys(['grade&speed', 'entry_angle&exit_angle&grade&speed'])"
      ]
     },
     "execution_count": 10,
     "metadata": {},
     "output_type": "execute_result"
    }
   ],
   "source": [
    "camry.estimators.keys()"
   ]
  },
  {
   "cell_type": "markdown",
   "metadata": {},
   "source": [
    "If we just pass in the links DataFrame without any other information, the model will assume we want to use all the feature and in this case will look for an internal estimator with the features [\"speed\", \"grade\", \"entry_angle\", \"exit_angle\"]"
   ]
  },
  {
   "cell_type": "code",
   "execution_count": 11,
   "metadata": {},
   "outputs": [
    {
     "data": {
      "text/html": [
       "<div>\n",
       "<style scoped>\n",
       "    .dataframe tbody tr th:only-of-type {\n",
       "        vertical-align: middle;\n",
       "    }\n",
       "\n",
       "    .dataframe tbody tr th {\n",
       "        vertical-align: top;\n",
       "    }\n",
       "\n",
       "    .dataframe thead th {\n",
       "        text-align: right;\n",
       "    }\n",
       "</style>\n",
       "<table border=\"1\" class=\"dataframe\">\n",
       "  <thead>\n",
       "    <tr style=\"text-align: right;\">\n",
       "      <th></th>\n",
       "      <th>energy</th>\n",
       "    </tr>\n",
       "  </thead>\n",
       "  <tbody>\n",
       "    <tr>\n",
       "      <th>0</th>\n",
       "      <td>0.053120</td>\n",
       "    </tr>\n",
       "    <tr>\n",
       "      <th>1</th>\n",
       "      <td>0.063292</td>\n",
       "    </tr>\n",
       "    <tr>\n",
       "      <th>2</th>\n",
       "      <td>0.018446</td>\n",
       "    </tr>\n",
       "    <tr>\n",
       "      <th>3</th>\n",
       "      <td>0.053990</td>\n",
       "    </tr>\n",
       "    <tr>\n",
       "      <th>4</th>\n",
       "      <td>0.033694</td>\n",
       "    </tr>\n",
       "  </tbody>\n",
       "</table>\n",
       "</div>"
      ],
      "text/plain": [
       "     energy\n",
       "0  0.053120\n",
       "1  0.063292\n",
       "2  0.018446\n",
       "3  0.053990\n",
       "4  0.033694"
      ]
     },
     "execution_count": 11,
     "metadata": {},
     "output_type": "execute_result"
    }
   ],
   "source": [
    "camry.predict(links)"
   ]
  },
  {
   "cell_type": "markdown",
   "metadata": {},
   "source": [
    "If we want to use a different estimator, we can tell the predict method to only use a subset of the features. In this case, we'll tell the model to only use speed & grade"
   ]
  },
  {
   "cell_type": "code",
   "execution_count": 12,
   "metadata": {},
   "outputs": [
    {
     "data": {
      "text/html": [
       "<div>\n",
       "<style scoped>\n",
       "    .dataframe tbody tr th:only-of-type {\n",
       "        vertical-align: middle;\n",
       "    }\n",
       "\n",
       "    .dataframe tbody tr th {\n",
       "        vertical-align: top;\n",
       "    }\n",
       "\n",
       "    .dataframe thead th {\n",
       "        text-align: right;\n",
       "    }\n",
       "</style>\n",
       "<table border=\"1\" class=\"dataframe\">\n",
       "  <thead>\n",
       "    <tr style=\"text-align: right;\">\n",
       "      <th></th>\n",
       "      <th>energy</th>\n",
       "    </tr>\n",
       "  </thead>\n",
       "  <tbody>\n",
       "    <tr>\n",
       "      <th>0</th>\n",
       "      <td>0.058793</td>\n",
       "    </tr>\n",
       "    <tr>\n",
       "      <th>1</th>\n",
       "      <td>0.044744</td>\n",
       "    </tr>\n",
       "    <tr>\n",
       "      <th>2</th>\n",
       "      <td>0.018063</td>\n",
       "    </tr>\n",
       "    <tr>\n",
       "      <th>3</th>\n",
       "      <td>0.049676</td>\n",
       "    </tr>\n",
       "    <tr>\n",
       "      <th>4</th>\n",
       "      <td>0.033961</td>\n",
       "    </tr>\n",
       "  </tbody>\n",
       "</table>\n",
       "</div>"
      ],
      "text/plain": [
       "     energy\n",
       "0  0.058793\n",
       "1  0.044744\n",
       "2  0.018063\n",
       "3  0.049676\n",
       "4  0.033961"
      ]
     },
     "execution_count": 12,
     "metadata": {},
     "output_type": "execute_result"
    }
   ],
   "source": [
    "camry.predict(links, feature_columns=[\"speed\", \"grade\"])"
   ]
  },
  {
   "cell_type": "markdown",
   "metadata": {},
   "source": [
    "We can also apply some correction factors for effects that are not directly captured in the energy data the model was trained on. These include things like:\n",
    " - Ambient Temperature\n",
    " - Auxilary loads (i.e. Air Conditioners)\n",
    "\n",
    "These are powertrain specific and can be included by passing the `apply_real_world_adjustment` paramter which is set to False by default."
   ]
  },
  {
   "cell_type": "code",
   "execution_count": 13,
   "metadata": {},
   "outputs": [
    {
     "data": {
      "text/html": [
       "<div>\n",
       "<style scoped>\n",
       "    .dataframe tbody tr th:only-of-type {\n",
       "        vertical-align: middle;\n",
       "    }\n",
       "\n",
       "    .dataframe tbody tr th {\n",
       "        vertical-align: top;\n",
       "    }\n",
       "\n",
       "    .dataframe thead th {\n",
       "        text-align: right;\n",
       "    }\n",
       "</style>\n",
       "<table border=\"1\" class=\"dataframe\">\n",
       "  <thead>\n",
       "    <tr style=\"text-align: right;\">\n",
       "      <th></th>\n",
       "      <th>energy</th>\n",
       "    </tr>\n",
       "  </thead>\n",
       "  <tbody>\n",
       "    <tr>\n",
       "      <th>0</th>\n",
       "      <td>0.061938</td>\n",
       "    </tr>\n",
       "    <tr>\n",
       "      <th>1</th>\n",
       "      <td>0.073799</td>\n",
       "    </tr>\n",
       "    <tr>\n",
       "      <th>2</th>\n",
       "      <td>0.021508</td>\n",
       "    </tr>\n",
       "    <tr>\n",
       "      <th>3</th>\n",
       "      <td>0.062952</td>\n",
       "    </tr>\n",
       "    <tr>\n",
       "      <th>4</th>\n",
       "      <td>0.039287</td>\n",
       "    </tr>\n",
       "  </tbody>\n",
       "</table>\n",
       "</div>"
      ],
      "text/plain": [
       "     energy\n",
       "0  0.061938\n",
       "1  0.073799\n",
       "2  0.021508\n",
       "3  0.062952\n",
       "4  0.039287"
      ]
     },
     "execution_count": 13,
     "metadata": {},
     "output_type": "execute_result"
    }
   ],
   "source": [
    "camry.predict(links, apply_real_world_adjustment=True)"
   ]
  },
  {
   "cell_type": "markdown",
   "metadata": {},
   "source": [
    "Note that we see higher energy values when apply these factors"
   ]
  },
  {
   "cell_type": "markdown",
   "metadata": {},
   "source": [
    "Lastly, we can take a look at the validation errors for each estimator that the model has."
   ]
  },
  {
   "cell_type": "code",
   "execution_count": 14,
   "metadata": {},
   "outputs": [
    {
     "data": {
      "text/html": [
       "<table border=\"1\" style=\"border-collapse: collapse;\"><tr><td colspan='2' style='border-bottom: 2px solid black; text-align: center;'><b>Estimator Errors</b></td></tr><tr><td>Feature Set ID</td><td>grade&speed</td></tr><tr><td>Target</td><td>energy</td></tr><tr><td>Link RMSE</td><td>0.00160</td></tr><tr><td>Link Norm RMSE</td><td>0.93762</td></tr><tr><td>Link Weighted RPD</td><td>0.39819</td></tr><tr><td>Net Error</td><td>0.00224</td></tr><tr><td>Actual Dist/Energy</td><td>31.65167</td></tr><tr><td>Predicted Dist/Energy</td><td>31.58107</td></tr><tr><td>Trip RPD</td><td>0.19973</td></tr><tr><td>Trip Weighted RPD</td><td>0.12012</td></tr><tr><td>Trip RMSE</td><td>0.01196</td></tr><tr><td>Trip Norm RMSE</td><td>0.22962</td></tr><table border=\"1\" style=\"border-collapse: collapse;\"><tr><td colspan='2' style='border-bottom: 2px solid black; text-align: center;'><b>Estimator Errors</b></td></tr><tr><td>Feature Set ID</td><td>entry_angle&exit_angle&grade&speed</td></tr><tr><td>Target</td><td>energy</td></tr><tr><td>Link RMSE</td><td>0.00160</td></tr><tr><td>Link Norm RMSE</td><td>0.93498</td></tr><tr><td>Link Weighted RPD</td><td>0.39450</td></tr><tr><td>Net Error</td><td>0.00624</td></tr><tr><td>Actual Dist/Energy</td><td>31.65167</td></tr><tr><td>Predicted Dist/Energy</td><td>31.45542</td></tr><tr><td>Trip RPD</td><td>0.19806</td></tr><tr><td>Trip Weighted RPD</td><td>0.11962</td></tr><tr><td>Trip RMSE</td><td>0.01187</td></tr><tr><td>Trip Norm RMSE</td><td>0.22795</td></tr>"
      ],
      "text/plain": [
       "=========================================\n",
       "Feature Set ID:       grade&speed\n",
       "Target:               energy\n",
       "Link RMSE             0.002\n",
       "Link Norm RMSE        0.938\n",
       "Link Weighted RPD     0.398\n",
       "Net Error             0.002\n",
       "Actual Dist/Energy    31.652\n",
       "Predicted Dist/Energy 31.581\n",
       "Trip RPD              0.200\n",
       "Trip Weighted RPD     0.120\n",
       "Trip RMSE             0.012\n",
       "Trip Norm RMSE        0.230\n",
       "=========================================\n",
       "Feature Set ID:       entry_angle&exit_angle&grade&speed\n",
       "Target:               energy\n",
       "Link RMSE             0.002\n",
       "Link Norm RMSE        0.935\n",
       "Link Weighted RPD     0.394\n",
       "Net Error             0.006\n",
       "Actual Dist/Energy    31.652\n",
       "Predicted Dist/Energy 31.455\n",
       "Trip RPD              0.198\n",
       "Trip Weighted RPD     0.120\n",
       "Trip RMSE             0.012\n",
       "Trip Norm RMSE        0.228\n",
       "========================================="
      ]
     },
     "execution_count": 14,
     "metadata": {},
     "output_type": "execute_result"
    }
   ],
   "source": [
    "camry.errors"
   ]
  },
  {
   "cell_type": "code",
   "execution_count": null,
   "metadata": {},
   "outputs": [],
   "source": []
  }
 ],
 "metadata": {
  "kernelspec": {
   "display_name": "routee-powertrain",
   "language": "python",
   "name": "routee-powertrain"
  },
  "language_info": {
   "codemirror_mode": {
    "name": "ipython",
    "version": 3
   },
   "file_extension": ".py",
   "mimetype": "text/x-python",
   "name": "python",
   "nbconvert_exporter": "python",
   "pygments_lexer": "ipython3",
   "version": "3.10.12"
  },
  "widgets": {
   "application/vnd.jupyter.widget-state+json": {
    "state": {},
    "version_major": 2,
    "version_minor": 0
   }
  }
 },
 "nbformat": 4,
 "nbformat_minor": 4
}
